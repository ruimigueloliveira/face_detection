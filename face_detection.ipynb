{
 "cells": [
  {
   "cell_type": "code",
   "execution_count": 1,
   "id": "44b8c577",
   "metadata": {},
   "outputs": [],
   "source": [
    "# Escrever no ficheiro\n",
    "#with open('formatted_imgs.txt', 'w') as f:\n",
    "    \n",
    "    # OPÇAO 1\n",
    " #   f.write(str(ls))\n",
    "    \n",
    "    # OPÇAO 2\n",
    "  #  for i in ls[:-1]:\n",
    "   #    f.write(str(i) + ',\\n')\n",
    "    #f.write(str(ls[-1]) + '\\n')  \n",
    "    \n",
    "#f.close()"
   ]
  },
  {
   "cell_type": "code",
   "execution_count": 2,
   "id": "e9706140",
   "metadata": {},
   "outputs": [],
   "source": [
    "import warnings\n",
    "warnings.filterwarnings('ignore',category=FutureWarning)\n",
    "warnings.filterwarnings('ignore',category=DeprecationWarning)\n",
    "\n",
    "# Import relevant libraries\n",
    "import numpy as np\n",
    "from numpy import asarray\n",
    "from PIL import Image\n",
    "import os\n",
    "\n",
    "from keras import layers\n",
    "from keras.layers import Input, Dense, Activation, ZeroPadding2D, BatchNormalization, Flatten, Conv2D\n",
    "from keras.layers import AveragePooling2D, MaxPooling2D, Dropout, GlobalMaxPooling2D, GlobalAveragePooling2D\n",
    "from keras.models import Model\n",
    "from keras.preprocessing import image\n",
    "from keras.utils import layer_utils\n",
    "from keras.utils.data_utils import get_file\n",
    "from keras.applications.imagenet_utils import preprocess_input\n",
    "import pydot\n",
    "from IPython.display import SVG\n",
    "from keras.utils.vis_utils import model_to_dot\n",
    "from keras.utils.vis_utils import plot_model\n",
    "# from kt_utils import *\n",
    "from keras.losses import BinaryCrossentropy\n",
    "\n",
    "import keras.backend as K\n",
    "K.set_image_data_format('channels_last')\n",
    "import matplotlib.pyplot as plt\n",
    "from matplotlib.pyplot import imshow\n",
    "\n",
    "%matplotlib inline"
   ]
  },
  {
   "cell_type": "markdown",
   "id": "da3e567a",
   "metadata": {},
   "source": [
    "# Training Images\n"
   ]
  },
  {
   "cell_type": "code",
   "execution_count": null,
   "id": "9c450207",
   "metadata": {},
   "outputs": [
    {
     "name": "stdout",
     "output_type": "stream",
     "text": [
      "1000\n",
      "2000\n",
      "3000\n",
      "4000\n",
      "5000\n",
      "6000\n",
      "7000\n",
      "8000\n",
      "9000\n",
      "10000\n"
     ]
    }
   ],
   "source": [
    "directory = 'faces_train'\n",
    "ls = []\n",
    "label_ls = []\n",
    "i = 0\n",
    "for filename in os.listdir(directory):\n",
    "    i += 1\n",
    "    if (i % 1000 == 0):\n",
    "        print(i)\n",
    "    img = Image.open(directory + '/' + filename)\n",
    "    data = asarray(img)\n",
    "    ls.append(data)\n",
    "    label_ls.append(1)\n",
    "\n",
    "directory = 'no_faces_train'\n",
    "for filename in os.listdir(directory):\n",
    "    i += 1\n",
    "    if (i % 1000 == 0):\n",
    "        print(i)\n",
    "    img = Image.open(directory + '/' + filename)\n",
    "    data = asarray(img)\n",
    "    ls.append(data)\n",
    "    label_ls.append(0)\n",
    "    \n",
    "imgs_train = np.array(ls, dtype='uint8')\n",
    "label_train = np.array([label_ls])"
   ]
  },
  {
   "cell_type": "markdown",
   "id": "30179949",
   "metadata": {},
   "source": [
    "# Testing images"
   ]
  },
  {
   "cell_type": "code",
   "execution_count": null,
   "id": "9fa0329d",
   "metadata": {},
   "outputs": [],
   "source": [
    "directory = 'faces_test'\n",
    "ls = []\n",
    "label_ls = []\n",
    "i = 0\n",
    "for filename in os.listdir(directory):\n",
    "    i += 1\n",
    "    if (i % 1000 == 0):\n",
    "        print(i)\n",
    "    img = Image.open(directory + '/' + filename)\n",
    "    data = asarray(img)\n",
    "    ls.append(data)\n",
    "    label_ls.append(1)\n",
    "\n",
    "directory = 'no_faces_test'\n",
    "for filename in os.listdir(directory):\n",
    "    i += 1\n",
    "    if (i % 1000 == 0):\n",
    "        print(i)\n",
    "    img = Image.open(directory + '/' + filename)\n",
    "    data = asarray(img)\n",
    "    ls.append(data)\n",
    "    label_ls.append(0)\n",
    "    \n",
    "imgs_test = np.array(ls, dtype='uint8')\n",
    "label_test = np.array([label_ls])"
   ]
  },
  {
   "cell_type": "code",
   "execution_count": null,
   "id": "2498a285",
   "metadata": {},
   "outputs": [],
   "source": [
    "# Normalize image vectors\n",
    "#imgs_train_norm = imgs_train / 255.\n",
    "#imgs_test_norm = imgs_test / 255.\n",
    "\n",
    "# Reshape\n",
    "label_train_T = label_train.T\n",
    "label_test_T = label_test.T\n",
    "\n",
    "print (\"Number of training examples = \" + str(imgs_train.shape[0]))\n",
    "print (\"Number of testing examples = \" + str(imgs_test.shape[0]))\n",
    "print (\"Images train shape: \" + str(imgs_train.shape))\n",
    "print (\"Labels train shape: \" + str(label_train_T.shape))\n",
    "print (\"Images test shape: \" + str(imgs_test.shape))\n",
    "print (\"Labels test shape: \" + str(label_test_T.shape))"
   ]
  },
  {
   "cell_type": "code",
   "execution_count": null,
   "id": "c1e71489",
   "metadata": {},
   "outputs": [],
   "source": [
    "# HappyModel\n",
    "\n",
    "def HappyModel(input_shape):\n",
    "    \"\"\"\n",
    "    Implementation of the HappyModel.\n",
    "    \n",
    "    Arguments:\n",
    "    input_shape -- shape of the images of the dataset\n",
    "\n",
    "    Returns:\n",
    "    model -- a Model() instance in Keras\n",
    "    \"\"\"\n",
    "    # Use the suggested model in the text above to get started, and run through the whole\n",
    "    # exercise once. Then come back and add more BLOCKS. \n",
    "    X_input = Input(input_shape)\n",
    "\n",
    "    # Zero-Padding: pads the border of X_input with zeroes\n",
    "    X = ZeroPadding2D((3, 3))(X_input)\n",
    "    \n",
    "    # BLOCK 1: CONV -> BN -> RELU -> MAXP\n",
    "    num_filters = 32\n",
    "    kernel_size = (7, 7)\n",
    "    stride = (1, 1)\n",
    "    X = Conv2D(num_filters, kernel_size, strides = stride, name = 'conv0')(X)\n",
    "\n",
    "    # BLOCK 2: CONV -> BN -> RELU -> MAXP\n",
    "    X = BatchNormalization(axis = 3, name = 'bn0')(X)\n",
    "        \n",
    "    # BLOCK 3: CONV -> BN -> RELU -> MAXP\n",
    "    X = Activation('relu')(X)\n",
    "    \n",
    "    # BLOCK 4: CONV -> BN -> RELU -> MAXP\n",
    "    max_pool_size = (2, 2)\n",
    "    X = MaxPooling2D(max_pool_size, name='max_pool')(X)\n",
    "       \n",
    "        \n",
    "    # FLATTEN X (means convert it to a vector) + FULLYCONNECTED\n",
    "    X = Flatten()(X)\n",
    "    X = Dense(1, activation='sigmoid', name='fc')(X)\n",
    "\n",
    "    # Create model.\n",
    "    model = Model(inputs = X_input, outputs = X, name='HappyModel')\n",
    "    \n",
    "    return model"
   ]
  },
  {
   "cell_type": "code",
   "execution_count": null,
   "id": "27ebb54f",
   "metadata": {},
   "outputs": [],
   "source": [
    "happyModel = HappyModel(imgs_train.shape[1:])"
   ]
  },
  {
   "cell_type": "code",
   "execution_count": null,
   "id": "a5e2d0c6",
   "metadata": {},
   "outputs": [],
   "source": [
    "happyModel.compile(optimizer='adam', loss=BinaryCrossentropy(), metrics=[\"accuracy\"])"
   ]
  },
  {
   "cell_type": "code",
   "execution_count": null,
   "id": "21fb767b",
   "metadata": {},
   "outputs": [],
   "source": [
    "happyModel.fit(imgs_train, label_train_T, \n",
    "              batch_size = 16,\n",
    "              epochs = 5,\n",
    "              validation_data = (imgs_test, label_test_T))"
   ]
  },
  {
   "cell_type": "code",
   "execution_count": null,
   "id": "e8f865ea",
   "metadata": {},
   "outputs": [],
   "source": [
    "# happyModel.fit(x = imgs_test_norm, y = label_test_T, batch_size = 32, epochs = 4)"
   ]
  },
  {
   "cell_type": "code",
   "execution_count": null,
   "id": "91df6ab5",
   "metadata": {},
   "outputs": [],
   "source": [
    "preds = happyModel.evaluate(x = imgs_test, y = label_test_T)\n",
    "\n",
    "print()\n",
    "print (\"Loss = \" + str(preds[0]))\n",
    "print (\"Train Accuracy = \" + str(preds[1]))"
   ]
  },
  {
   "cell_type": "code",
   "execution_count": null,
   "id": "06587021",
   "metadata": {},
   "outputs": [],
   "source": [
    "#preds = happyModel.evaluate(x = imgs_test_norm, y = label_test_T)\n",
    "\n",
    "#print()\n",
    "#print (\"Loss = \" + str(preds[0]))\n",
    "#print (\"Test Accuracy = \" + str(preds[1]))"
   ]
  },
  {
   "cell_type": "code",
   "execution_count": null,
   "id": "ebbb04c3",
   "metadata": {},
   "outputs": [],
   "source": [
    "# plots the model in a nice layout and save it as \".png\"\n",
    "#plot_model(happyModel, to_file='HappyModel.png')"
   ]
  },
  {
   "cell_type": "code",
   "execution_count": null,
   "id": "40a91e91",
   "metadata": {},
   "outputs": [],
   "source": [
    "img_path = 'faces_train/1_97.jpg'\n",
    "img = image.load_img(img_path, target_size=(256, 256))\n",
    "imshow(img)\n",
    "\n",
    "x = image.img_to_array(img)\n",
    "x = np.expand_dims(x, axis=0)\n",
    "x = preprocess_input(x)\n",
    "\n",
    "print(happyModel.predict(x))"
   ]
  },
  {
   "cell_type": "code",
   "execution_count": null,
   "id": "f6a1ccf2",
   "metadata": {},
   "outputs": [],
   "source": []
  }
 ],
 "metadata": {
  "kernelspec": {
   "display_name": "Python 3",
   "language": "python",
   "name": "python3"
  },
  "language_info": {
   "codemirror_mode": {
    "name": "ipython",
    "version": 3
   },
   "file_extension": ".py",
   "mimetype": "text/x-python",
   "name": "python",
   "nbconvert_exporter": "python",
   "pygments_lexer": "ipython3",
   "version": "3.8.8"
  }
 },
 "nbformat": 4,
 "nbformat_minor": 5
}
