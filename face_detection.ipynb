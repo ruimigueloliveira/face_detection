{
 "cells": [
  {
   "cell_type": "code",
   "execution_count": 1,
   "id": "e9706140",
   "metadata": {},
   "outputs": [],
   "source": [
    "import warnings\n",
    "warnings.filterwarnings('ignore',category=FutureWarning)\n",
    "warnings.filterwarnings('ignore',category=DeprecationWarning)\n",
    "\n",
    "# Import relevant libraries\n",
    "import numpy as np\n",
    "from numpy import asarray\n",
    "from PIL import Image\n",
    "import os\n",
    "\n",
    "from keras import layers\n",
    "from keras.layers import Input, Dense, Activation, ZeroPadding2D, BatchNormalization, Flatten, Conv2D\n",
    "from keras.layers import AveragePooling2D, MaxPooling2D, Dropout, GlobalMaxPooling2D, GlobalAveragePooling2D\n",
    "from keras.models import Model\n",
    "from keras.preprocessing import image\n",
    "from keras.utils import layer_utils\n",
    "from keras.utils.data_utils import get_file\n",
    "from keras.applications.imagenet_utils import preprocess_input\n",
    "import pydot\n",
    "from IPython.display import SVG\n",
    "from keras.utils.vis_utils import model_to_dot\n",
    "from keras.utils.vis_utils import plot_model\n",
    "from keras.losses import BinaryCrossentropy\n",
    "import keras.backend as K\n",
    "K.set_image_data_format('channels_last')\n",
    "import matplotlib.pyplot as plt\n",
    "from matplotlib.pyplot import imshow\n",
    "\n",
    "%matplotlib inline"
   ]
  },
  {
   "cell_type": "markdown",
   "id": "da3e567a",
   "metadata": {},
   "source": [
    "# Training Images\n"
   ]
  },
  {
   "cell_type": "code",
   "execution_count": 2,
   "id": "9c450207",
   "metadata": {},
   "outputs": [
    {
     "name": "stdout",
     "output_type": "stream",
     "text": [
      "len faces:  105\n",
      "number of examples faces:  105\n",
      "\n",
      "len no_faces:  134\n",
      "number of examples no_faces:  134\n"
     ]
    }
   ],
   "source": [
    "directory = 'faces'\n",
    "ls = []\n",
    "label_ls = []\n",
    "i = 0 \n",
    "j = 0\n",
    "interval = 1\n",
    "path, dirs, files = next(os.walk(\"faces\"))\n",
    "print(\"len faces: \",len(files))\n",
    "if int(len(files)/1000) > 0:\n",
    "    interval = int(len(files)/1000)\n",
    "for filename in os.listdir(directory):\n",
    "    i += 1\n",
    "    if (i % interval == 0):\n",
    "        j += 1\n",
    "        img = Image.open(directory + '/' + filename)\n",
    "        data = asarray(img)\n",
    "        ls.append(data)\n",
    "        label_ls.append(0)\n",
    "print(\"number of examples faces: \", j)\n",
    "\n",
    "directory = 'no_faces'\n",
    "i = 0 \n",
    "j = 0\n",
    "interval = 1\n",
    "path, dirs, files = next(os.walk(\"no_faces\"))\n",
    "print(\"\\nlen no_faces: \",len(files))\n",
    "if int(len(files)/1000) > 0:\n",
    "    interval = int(len(files)/1000)\n",
    "for filename in os.listdir(directory):\n",
    "    i += 1\n",
    "    if (i % interval == 0):\n",
    "        j += 1\n",
    "        img = Image.open(directory + '/' + filename)\n",
    "        data = asarray(img)\n",
    "        ls.append(data)\n",
    "        label_ls.append(1)\n",
    "print(\"number of examples no_faces: \", j)\n",
    "\n",
    "imgs_train = np.array(ls, dtype='uint8')\n",
    "label_train = np.array([label_ls])"
   ]
  },
  {
   "cell_type": "markdown",
   "id": "30179949",
   "metadata": {},
   "source": [
    "# Testing images"
   ]
  },
  {
   "cell_type": "code",
   "execution_count": 3,
   "id": "17e1593d",
   "metadata": {},
   "outputs": [
    {
     "name": "stdout",
     "output_type": "stream",
     "text": [
      "len faces_test:  1\n",
      "number of examples faces_test:  1\n",
      "\n",
      "len no_faces_test:  1\n",
      "number of examples no_faces_test:  1\n"
     ]
    }
   ],
   "source": [
    "directory = 'faces_test'\n",
    "ls = []\n",
    "label_ls = []\n",
    "i = 0 \n",
    "j = 0\n",
    "interval = 1\n",
    "path, dirs, files = next(os.walk(\"faces_test\"))\n",
    "print(\"len faces_test: \",len(files))\n",
    "if int(len(files)/1000) > 0:\n",
    "    interval = int(len(files)/1000)\n",
    "for filename in os.listdir(directory):\n",
    "    i += 1\n",
    "    if (i % interval == 0):\n",
    "        j += 1\n",
    "        img = Image.open(directory + '/' + filename)\n",
    "        data = asarray(img)\n",
    "        ls.append(data)\n",
    "        label_ls.append(0)\n",
    "print(\"number of examples faces_test: \", j)\n",
    "\n",
    "directory = 'no_faces_test'\n",
    "i = 0 \n",
    "j = 0\n",
    "interval = 1\n",
    "path, dirs, files = next(os.walk(\"no_faces_test\"))\n",
    "print(\"\\nlen no_faces_test: \",len(files))\n",
    "if int(len(files)/1000) > 0:\n",
    "    interval = int(len(files)/1000)\n",
    "for filename in os.listdir(directory):\n",
    "    i += 1\n",
    "    if (i % interval == 0):\n",
    "        j += 1\n",
    "        img = Image.open(directory + '/' + filename)\n",
    "        data = asarray(img)\n",
    "        ls.append(data)\n",
    "        label_ls.append(1)\n",
    "print(\"number of examples no_faces_test: \", j)\n",
    "\n",
    "imgs_test = np.array(ls, dtype='uint8')\n",
    "label_test = np.array([label_ls])"
   ]
  },
  {
   "cell_type": "code",
   "execution_count": 4,
   "id": "2498a285",
   "metadata": {},
   "outputs": [
    {
     "name": "stdout",
     "output_type": "stream",
     "text": [
      "Number of training examples = 239\n",
      "Number of testing examples = 2\n",
      "Images train shape: (239, 256, 256, 3)\n",
      "Labels train shape: (239, 1)\n",
      "Images test shape: (2, 256, 256, 3)\n",
      "Labels test shape: (2, 1)\n"
     ]
    }
   ],
   "source": [
    "# Normalize image vectors\n",
    "imgs_train_norm = imgs_train / 255.\n",
    "imgs_test_norm = imgs_test / 255.\n",
    "\n",
    "# Reshape\n",
    "label_train_T = label_train.T\n",
    "label_test_T = label_test.T\n",
    "\n",
    "print (\"Number of training examples = \" + str(imgs_train_norm.shape[0]))\n",
    "print (\"Number of testing examples = \" + str(imgs_test_norm.shape[0]))\n",
    "print (\"Images train shape: \" + str(imgs_train_norm.shape))\n",
    "print (\"Labels train shape: \" + str(label_train_T.shape))\n",
    "print (\"Images test shape: \" + str(imgs_test_norm.shape))\n",
    "print (\"Labels test shape: \" + str(label_test_T.shape))"
   ]
  },
  {
   "cell_type": "code",
   "execution_count": 5,
   "id": "c1e71489",
   "metadata": {},
   "outputs": [],
   "source": [
    "def FaceDetectionModel(input_shape):\n",
    "    \"\"\"\n",
    "    Implementation of the FaceDetectionModel.\n",
    "    \n",
    "    Arguments:\n",
    "    input_shape -- shape of the images of the dataset\n",
    "\n",
    "    Returns:\n",
    "    model -- a Model() instance in Keras\n",
    "    \"\"\"\n",
    "    # Use the suggested model in the text above to get started, and run through the whole\n",
    "    # exercise once. Then come back and add more BLOCKS. \n",
    "    X_input = Input(input_shape)\n",
    "\n",
    "    # Zero-Padding: pads the border of X_input with zeroes\n",
    "    X = ZeroPadding2D((3, 3))(X_input)\n",
    "    \n",
    "    # BLOCK 1: CONV -> BN -> RELU -> MAXP\n",
    "    num_filters = 32\n",
    "    kernel_size = (7, 7)\n",
    "    stride = (1, 1)\n",
    "    X = Conv2D(num_filters, kernel_size, strides = stride, name = 'conv0')(X)\n",
    "\n",
    "    # BLOCK 2: CONV -> BN -> RELU -> MAXP\n",
    "    X = BatchNormalization(axis = 3, name = 'bn0')(X)\n",
    "        \n",
    "    # BLOCK 3: CONV -> BN -> RELU -> MAXP\n",
    "    X = Activation('relu')(X)\n",
    "    \n",
    "    # BLOCK 4: CONV -> BN -> RELU -> MAXP\n",
    "    max_pool_size = (2, 2)\n",
    "    X = MaxPooling2D(max_pool_size, name='max_pool')(X)\n",
    "       \n",
    "    # FLATTEN X (means convert it to a vector) + FULLYCONNECTED\n",
    "    X = Flatten()(X)\n",
    "    X = Dense(1, activation='sigmoid', name='fc')(X)\n",
    "\n",
    "    # Create model.\n",
    "    model = Model(inputs = X_input, outputs = X, name='FaceDetectionModel')\n",
    "    \n",
    "    return model"
   ]
  },
  {
   "cell_type": "code",
   "execution_count": 6,
   "id": "27ebb54f",
   "metadata": {},
   "outputs": [],
   "source": [
    "facedetectionmodel = FaceDetectionModel(imgs_train_norm.shape[1:])"
   ]
  },
  {
   "cell_type": "code",
   "execution_count": 7,
   "id": "a5e2d0c6",
   "metadata": {},
   "outputs": [],
   "source": [
    "facedetectionmodel.compile(optimizer='adam', loss=BinaryCrossentropy(), metrics=[\"accuracy\"])"
   ]
  },
  {
   "cell_type": "code",
   "execution_count": 8,
   "id": "3b3e49fa",
   "metadata": {},
   "outputs": [
    {
     "name": "stdout",
     "output_type": "stream",
     "text": [
      "Model: \"FaceDetectionModel\"\n",
      "_________________________________________________________________\n",
      " Layer (type)                Output Shape              Param #   \n",
      "=================================================================\n",
      " input_1 (InputLayer)        [(None, 256, 256, 3)]     0         \n",
      "                                                                 \n",
      " zero_padding2d (ZeroPadding  (None, 262, 262, 3)      0         \n",
      " 2D)                                                             \n",
      "                                                                 \n",
      " conv0 (Conv2D)              (None, 256, 256, 32)      4736      \n",
      "                                                                 \n",
      " bn0 (BatchNormalization)    (None, 256, 256, 32)      128       \n",
      "                                                                 \n",
      " activation (Activation)     (None, 256, 256, 32)      0         \n",
      "                                                                 \n",
      " max_pool (MaxPooling2D)     (None, 128, 128, 32)      0         \n",
      "                                                                 \n",
      " flatten (Flatten)           (None, 524288)            0         \n",
      "                                                                 \n",
      " fc (Dense)                  (None, 1)                 524289    \n",
      "                                                                 \n",
      "=================================================================\n",
      "Total params: 529,153\n",
      "Trainable params: 529,089\n",
      "Non-trainable params: 64\n",
      "_________________________________________________________________\n"
     ]
    }
   ],
   "source": [
    "facedetectionmodel.summary()"
   ]
  },
  {
   "cell_type": "code",
   "execution_count": 9,
   "id": "21fb767b",
   "metadata": {},
   "outputs": [
    {
     "name": "stdout",
     "output_type": "stream",
     "text": [
      "Epoch 1/5\n",
      "4/4 [==============================] - 17s 4s/step - loss: 0.8530 - accuracy: 0.7866 - val_loss: 963.2662 - val_accuracy: 0.5000\n",
      "Epoch 2/5\n",
      "4/4 [==============================] - 15s 4s/step - loss: 0.2086 - accuracy: 0.9916 - val_loss: 880.8529 - val_accuracy: 0.5000\n",
      "Epoch 3/5\n",
      "4/4 [==============================] - 15s 4s/step - loss: 0.0195 - accuracy: 0.9958 - val_loss: 857.8964 - val_accuracy: 0.5000\n",
      "Epoch 4/5\n",
      "4/4 [==============================] - 15s 4s/step - loss: 3.9168e-24 - accuracy: 1.0000 - val_loss: 182.6239 - val_accuracy: 0.5000\n",
      "Epoch 5/5\n",
      "4/4 [==============================] - 15s 4s/step - loss: 2.2124e-06 - accuracy: 1.0000 - val_loss: 0.0000e+00 - val_accuracy: 1.0000\n"
     ]
    }
   ],
   "source": [
    "history = facedetectionmodel.fit(\n",
    "    imgs_train_norm, label_train_T,\n",
    "    batch_size = 64,\n",
    "    epochs = 5,\n",
    "    validation_data = (imgs_test, label_test_T)\n",
    ")"
   ]
  },
  {
   "cell_type": "code",
   "execution_count": 10,
   "id": "91df6ab5",
   "metadata": {},
   "outputs": [
    {
     "name": "stdout",
     "output_type": "stream",
     "text": [
      "1/1 [==============================] - 0s 135ms/step - loss: 7.6064e-09 - accuracy: 1.0000\n",
      "Loss = 7.60642748787177e-09\n",
      "Test Accuracy = 1.0\n"
     ]
    }
   ],
   "source": [
    "preds = facedetectionmodel.evaluate(x = imgs_test_norm, y = label_test_T)\n",
    "print (\"Loss = \" + str(preds[0]))\n",
    "print (\"Test Accuracy = \" + str(preds[1]))\n",
    "\n",
    "while preds[1] < 0.9:\n",
    "    facedetectionmodel.fit(imgs_train_norm, label_train_T, batch_size = 16, epochs = 1)\n",
    "    preds = facedetectionmodel.evaluate(x = imgs_test_norm, y = label_test_T)\n",
    "    print (\"Loss = \" + str(preds[0]))\n",
    "    print (\"Test Accuracy = \" + str(preds[1]))"
   ]
  },
  {
   "cell_type": "code",
   "execution_count": 11,
   "id": "ebbb04c3",
   "metadata": {},
   "outputs": [
    {
     "data": {
      "image/png": "[encoded data removed]",
      "text/plain": [
       "<IPython.core.display.Image object>"
      ]
     },
     "execution_count": 11,
     "metadata": {},
     "output_type": "execute_result"
    }
   ],
   "source": [
    "# plots the model in a nice layout and save it as \".png\"\n",
    "plot_model(facedetectionmodel, to_file='FaceDetectionModel.png')"
   ]
  },
  {
   "cell_type": "code",
   "execution_count": 12,
   "id": "12ee0964",
   "metadata": {},
   "outputs": [
    {
     "data": {
      "image/png": "[encoded data removed]",
      "text/plain": [
       "<Figure size 432x288 with 1 Axes>"
      ]
     },
     "metadata": {
      "needs_background": "light"
     },
     "output_type": "display_data"
    },
    {
     "data": {
      "image/png": "[encoded data removed]",
      "text/plain": [
       "<Figure size 432x288 with 1 Axes>"
      ]
     },
     "metadata": {
      "needs_background": "light"
     },
     "output_type": "display_data"
    }
   ],
   "source": [
    "# summarize history for accuracy\n",
    "plt.plot(history.history['accuracy'])\n",
    "plt.plot(history.history['val_accuracy'])\n",
    "plt.title('model accuracy')\n",
    "plt.ylabel('accuracy')\n",
    "plt.xlabel('epoch')\n",
    "plt.legend(['train', 'test'], loc='upper left')\n",
    "plt.show()\n",
    "# summarize history for loss\n",
    "plt.plot(history.history['loss'])\n",
    "plt.plot(history.history['val_loss'])\n",
    "plt.title('model loss')\n",
    "plt.ylabel('loss')\n",
    "plt.xlabel('epoch')\n",
    "plt.legend(['train', 'test'], loc='upper left')\n",
    "plt.show()"
   ]
  },
  {
   "cell_type": "code",
   "execution_count": 13,
   "id": "f6a1ccf2",
   "metadata": {},
   "outputs": [
    {
     "ename": "FileNotFoundError",
     "evalue": "[Errno 2] No such file or directory: 'faces_test/.jpg'",
     "output_type": "error",
     "traceback": [
      "\u001b[1;31m---------------------------------------------------------------------------\u001b[0m",
      "\u001b[1;31mFileNotFoundError\u001b[0m                         Traceback (most recent call last)",
      "\u001b[1;32m~\\AppData\\Local\\Temp/ipykernel_11744/1834591125.py\u001b[0m in \u001b[0;36m<module>\u001b[1;34m\u001b[0m\n\u001b[0;32m      1\u001b[0m \u001b[0mimg_path\u001b[0m \u001b[1;33m=\u001b[0m \u001b[1;34m'faces_test/.jpg'\u001b[0m\u001b[1;33m\u001b[0m\u001b[1;33m\u001b[0m\u001b[0m\n\u001b[1;32m----> 2\u001b[1;33m \u001b[0mimg\u001b[0m \u001b[1;33m=\u001b[0m \u001b[0mimage\u001b[0m\u001b[1;33m.\u001b[0m\u001b[0mload_img\u001b[0m\u001b[1;33m(\u001b[0m\u001b[0mimg_path\u001b[0m\u001b[1;33m,\u001b[0m \u001b[0mtarget_size\u001b[0m\u001b[1;33m=\u001b[0m\u001b[1;33m(\u001b[0m\u001b[1;36m256\u001b[0m\u001b[1;33m,\u001b[0m \u001b[1;36m256\u001b[0m\u001b[1;33m)\u001b[0m\u001b[1;33m)\u001b[0m\u001b[1;33m\u001b[0m\u001b[1;33m\u001b[0m\u001b[0m\n\u001b[0m\u001b[0;32m      3\u001b[0m \u001b[0mimshow\u001b[0m\u001b[1;33m(\u001b[0m\u001b[0mimg\u001b[0m\u001b[1;33m)\u001b[0m\u001b[1;33m\u001b[0m\u001b[1;33m\u001b[0m\u001b[0m\n\u001b[0;32m      4\u001b[0m \u001b[1;33m\u001b[0m\u001b[0m\n\u001b[0;32m      5\u001b[0m \u001b[0mx\u001b[0m \u001b[1;33m=\u001b[0m \u001b[0mimage\u001b[0m\u001b[1;33m.\u001b[0m\u001b[0mimg_to_array\u001b[0m\u001b[1;33m(\u001b[0m\u001b[0mimg\u001b[0m\u001b[1;33m)\u001b[0m\u001b[1;33m\u001b[0m\u001b[1;33m\u001b[0m\u001b[0m\n",
      "\u001b[1;32m~\\anaconda3\\lib\\site-packages\\keras\\preprocessing\\image.py\u001b[0m in \u001b[0;36mload_img\u001b[1;34m(path, grayscale, color_mode, target_size, interpolation)\u001b[0m\n\u001b[0;32m    311\u001b[0m       \u001b[0mValueError\u001b[0m\u001b[1;33m:\u001b[0m \u001b[1;32mif\u001b[0m \u001b[0minterpolation\u001b[0m \u001b[0mmethod\u001b[0m \u001b[1;32mis\u001b[0m \u001b[1;32mnot\u001b[0m \u001b[0msupported\u001b[0m\u001b[1;33m.\u001b[0m\u001b[1;33m\u001b[0m\u001b[1;33m\u001b[0m\u001b[0m\n\u001b[0;32m    312\u001b[0m   \"\"\"\n\u001b[1;32m--> 313\u001b[1;33m   return image.load_img(path, grayscale=grayscale, color_mode=color_mode,\n\u001b[0m\u001b[0;32m    314\u001b[0m                         target_size=target_size, interpolation=interpolation)\n\u001b[0;32m    315\u001b[0m \u001b[1;33m\u001b[0m\u001b[0m\n",
      "\u001b[1;32m~\\anaconda3\\lib\\site-packages\\keras_preprocessing\\image\\utils.py\u001b[0m in \u001b[0;36mload_img\u001b[1;34m(path, grayscale, color_mode, target_size, interpolation)\u001b[0m\n\u001b[0;32m    111\u001b[0m         raise ImportError('Could not import PIL.Image. '\n\u001b[0;32m    112\u001b[0m                           'The use of `load_img` requires PIL.')\n\u001b[1;32m--> 113\u001b[1;33m     \u001b[1;32mwith\u001b[0m \u001b[0mopen\u001b[0m\u001b[1;33m(\u001b[0m\u001b[0mpath\u001b[0m\u001b[1;33m,\u001b[0m \u001b[1;34m'rb'\u001b[0m\u001b[1;33m)\u001b[0m \u001b[1;32mas\u001b[0m \u001b[0mf\u001b[0m\u001b[1;33m:\u001b[0m\u001b[1;33m\u001b[0m\u001b[1;33m\u001b[0m\u001b[0m\n\u001b[0m\u001b[0;32m    114\u001b[0m         \u001b[0mimg\u001b[0m \u001b[1;33m=\u001b[0m \u001b[0mpil_image\u001b[0m\u001b[1;33m.\u001b[0m\u001b[0mopen\u001b[0m\u001b[1;33m(\u001b[0m\u001b[0mio\u001b[0m\u001b[1;33m.\u001b[0m\u001b[0mBytesIO\u001b[0m\u001b[1;33m(\u001b[0m\u001b[0mf\u001b[0m\u001b[1;33m.\u001b[0m\u001b[0mread\u001b[0m\u001b[1;33m(\u001b[0m\u001b[1;33m)\u001b[0m\u001b[1;33m)\u001b[0m\u001b[1;33m)\u001b[0m\u001b[1;33m\u001b[0m\u001b[1;33m\u001b[0m\u001b[0m\n\u001b[0;32m    115\u001b[0m         \u001b[1;32mif\u001b[0m \u001b[0mcolor_mode\u001b[0m \u001b[1;33m==\u001b[0m \u001b[1;34m'grayscale'\u001b[0m\u001b[1;33m:\u001b[0m\u001b[1;33m\u001b[0m\u001b[1;33m\u001b[0m\u001b[0m\n",
      "\u001b[1;31mFileNotFoundError\u001b[0m: [Errno 2] No such file or directory: 'faces_test/.jpg'"
     ]
    }
   ],
   "source": [
    "img_path = 'faces_test/.jpg'\n",
    "img = image.load_img(img_path, target_size=(256, 256))\n",
    "imshow(img)\n",
    "\n",
    "x = image.img_to_array(img)\n",
    "x = np.expand_dims(x, axis=0)\n",
    "x = preprocess_input(x)\n",
    "\n",
    "if facedetectionmodel.predict(x)[0][0] == 0:\n",
    "    print(\"picture with face(s)\")\n",
    "elif facedetectionmodel.predict(x)[0][0] == 1:\n",
    "    print(\"picture without face(s)\")  \n"
   ]
  },
  {
   "cell_type": "code",
   "execution_count": null,
   "id": "52f713fa",
   "metadata": {},
   "outputs": [],
   "source": []
  },
  {
   "cell_type": "code",
   "execution_count": null,
   "id": "464b044c",
   "metadata": {},
   "outputs": [],
   "source": []
  }
 ],
 "metadata": {
  "kernelspec": {
   "display_name": "Python 3 (ipykernel)",
   "language": "python",
   "name": "python3"
  },
  "language_info": {
   "codemirror_mode": {
    "name": "ipython",
    "version": 3
   },
   "file_extension": ".py",
   "mimetype": "text/x-python",
   "name": "python",
   "nbconvert_exporter": "python",
   "pygments_lexer": "ipython3",
   "version": "3.8.8"
  }
 },
 "nbformat": 4,
 "nbformat_minor": 5
}
